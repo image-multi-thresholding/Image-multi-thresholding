{
 "cells": [
  {
   "cell_type": "code",
   "execution_count": 19,
   "metadata": {},
   "outputs": [],
   "source": [
    "from skimage import io\n",
    "\n",
    "original = io.imread('C:/Users/Usuario-PC/Dropbox/Angeles-Gisela-Andrea/Images/SAR Images/ SanFrancisco.jpg')"
   ]
  },
  {
   "cell_type": "code",
   "execution_count": 20,
   "metadata": {},
   "outputs": [
    {
     "data": {
      "text/plain": [
       "array([[248, 219, 180, ...,   2,   0,   0],\n",
       "       [255, 244, 225, ...,   4,   3,   2],\n",
       "       [238, 225, 248, ...,   4,   4,   3],\n",
       "       ...,\n",
       "       [253, 254, 255, ...,  28,  51,  14],\n",
       "       [251, 253, 255, ...,  59,  42,   0],\n",
       "       [249, 253, 255, ..., 100,  83,  21]], dtype=uint8)"
      ]
     },
     "execution_count": 20,
     "metadata": {},
     "output_type": "execute_result"
    }
   ],
   "source": [
    "original"
   ]
  },
  {
   "cell_type": "code",
   "execution_count": 21,
   "metadata": {},
   "outputs": [],
   "source": [
    "im = np.matrix(original)"
   ]
  },
  {
   "cell_type": "code",
   "execution_count": 22,
   "metadata": {},
   "outputs": [
    {
     "data": {
      "text/plain": [
       "matrix([[248, 219, 180, ...,   2,   0,   0],\n",
       "        [255, 244, 225, ...,   4,   3,   2],\n",
       "        [238, 225, 248, ...,   4,   4,   3],\n",
       "        ...,\n",
       "        [253, 254, 255, ...,  28,  51,  14],\n",
       "        [251, 253, 255, ...,  59,  42,   0],\n",
       "        [249, 253, 255, ..., 100,  83,  21]], dtype=uint8)"
      ]
     },
     "execution_count": 22,
     "metadata": {},
     "output_type": "execute_result"
    }
   ],
   "source": [
    "im"
   ]
  },
  {
   "cell_type": "code",
   "execution_count": 2,
   "metadata": {},
   "outputs": [],
   "source": [
    "from skimage import io,util,exposure\n",
    "import numpy as np\n",
    "import numpy.ma as ma\n",
    "\n",
    "def thresholdedImage(img, thr):\n",
    "    \n",
    "    \"\"\"\n",
    "thresholdedImage function\n",
    "\n",
    "Arguments:\n",
    "img a \"numpy.ndarray\" object\n",
    "thr a list of thresholds\n",
    "\n",
    "Value:\n",
    "thresholdingImage returns an object with class \"numpy.ndarray\" and possible values 0,1,...,255\n",
    "\n",
    "\"\"\"\n",
    "\n",
    "    # Normalize gray levels in the range 0,1,...,255\n",
    "    \n",
    "    image = util.img_as_ubyte(img)\n",
    "\n",
    "    #Convert threshold to numpy array\n",
    "\n",
    "    if(isinstance(thr, int)):\n",
    "        thr = np.array([thr], dtype=int)\n",
    "\n",
    "    thr = np.array(thr, dtype=int)\n",
    "\n",
    "    _, counts = np.unique(thr, return_counts=True) \n",
    "    for count in counts:\n",
    "        if(count == 1):\n",
    "            continue\n",
    "        print(\"[Error!]: there are repetead values in 'thr' (list of thresholds) argument\") #Error check\n",
    "        exit()\n",
    "    \n",
    "    # Find and sort gray levels\n",
    "    \n",
    "    _, grays = exposure.histogram(img)\n",
    "    \n",
    "    # Find amount of gray levels and thresholds\n",
    "\n",
    "    L = grays.size\n",
    "    \n",
    "    K = thr.size\n",
    "    \n",
    "    if(K == 0):\n",
    "        print(\"[Error!]: 'thr', list of thresholds, is empty\") #Error check\n",
    "        exit()\n",
    "    if(K>L):\n",
    "        print(\"[Error!]: 'thr', list of thresholds, contains more values than the amount of gray levels\") #Error check\n",
    "        exit()\n",
    "\n",
    "    # Compute the grayscale mean in each class\n",
    "\n",
    "    avg = np.zeros(1)\n",
    "    avg[0] = np.mean(grays[0:(thr[0]+1)])\n",
    "    if(K != 1):\n",
    "        for i in range(1, K):\n",
    "            avg = np.append(avg, np.mean(grays[(thr[i-1]+1):(thr[i]+1)]))\n",
    "    avg = np.append(avg, np.mean(grays[(thr[K-1]+1):]))\n",
    "\n",
    "    # Round the means\n",
    "\n",
    "    avg = np.round(avg)\n",
    "\n",
    "    # Replace each gray value in the image by the mean of its class\n",
    "\n",
    "    np.place(image, ma.masked_inside(image, grays[0], grays[thr[0]]), avg[0])\n",
    "    if(K != 1):\n",
    "        for i in range(1, K):\n",
    "            np.place(image, ma.masked_inside(image, grays[thr[i-1]+1], grays[thr[i]]), avg[i])\n",
    "    np.place(image, ma.masked_inside(image, grays[thr[K-1]+1], grays[L-1]), avg[K])\n",
    "\n",
    "\n",
    "    #Output\n",
    "\n",
    "    return image"
   ]
  },
  {
   "cell_type": "code",
   "execution_count": 15,
   "metadata": {},
   "outputs": [],
   "source": [
    "image1 = thresholdedImage(original, 100)"
   ]
  },
  {
   "cell_type": "code",
   "execution_count": 4,
   "metadata": {},
   "outputs": [
    {
     "data": {
      "text/plain": [
       "numpy.ndarray"
      ]
     },
     "execution_count": 4,
     "metadata": {},
     "output_type": "execute_result"
    }
   ],
   "source": [
    "type(image1)"
   ]
  },
  {
   "cell_type": "code",
   "execution_count": 16,
   "metadata": {},
   "outputs": [
    {
     "data": {
      "text/plain": [
       "array([[178, 178, 178, ..., 178,   0,   0],\n",
       "       [178, 178, 178, ..., 178, 178, 178],\n",
       "       [178, 178, 178, ..., 178, 178, 178],\n",
       "       ...,\n",
       "       [178, 178, 178, ..., 178, 178, 178],\n",
       "       [178, 178, 178, ..., 178, 178,   0],\n",
       "       [178, 178, 178, ..., 178, 178, 178]], dtype=uint8)"
      ]
     },
     "execution_count": 16,
     "metadata": {},
     "output_type": "execute_result"
    }
   ],
   "source": [
    "image1"
   ]
  },
  {
   "cell_type": "code",
   "execution_count": 23,
   "metadata": {},
   "outputs": [],
   "source": [
    "im1 = np.matrix(image1)"
   ]
  },
  {
   "cell_type": "code",
   "execution_count": 24,
   "metadata": {},
   "outputs": [
    {
     "data": {
      "text/plain": [
       "matrix([[ 70,  41,   2, ...,  80,   0,   0],\n",
       "        [ 77,  66,  47, ...,  82,  81,  80],\n",
       "        [ 60,  47,  70, ...,  82,  82,  81],\n",
       "        ...,\n",
       "        [ 75,  76,  77, ..., 106, 129,  92],\n",
       "        [ 73,  75,  77, ..., 137, 120,   0],\n",
       "        [ 71,  75,  77, ..., 178, 161,  99]], dtype=uint8)"
      ]
     },
     "execution_count": 24,
     "metadata": {},
     "output_type": "execute_result"
    }
   ],
   "source": [
    "im-im1"
   ]
  },
  {
   "cell_type": "code",
   "execution_count": 3,
   "metadata": {},
   "outputs": [
    {
     "output_type": "execute_result",
     "data": {
      "text/plain": "1.3333333333333333"
     },
     "metadata": {},
     "execution_count": 3
    }
   ],
   "source": [
    "grises = [0,1,2,3,4]\n",
    "prob = [0.1,0.2,0.3,0.3,0.1]\n",
    "clust = [0,1,2]\n",
    "\n",
    "import bibliotecaFunciones as bf\n",
    "\n",
    "bf.cluster_mean(prob, clust, 0)\n"
   ]
  },
  {
   "cell_type": "code",
   "execution_count": null,
   "metadata": {},
   "outputs": [],
   "source": []
  }
 ],
 "metadata": {
  "kernelspec": {
   "display_name": "Python 3",
   "language": "python",
   "name": "python3"
  },
  "language_info": {
   "codemirror_mode": {
    "name": "ipython",
    "version": 3
   },
   "file_extension": ".py",
   "mimetype": "text/x-python",
   "name": "python",
   "nbconvert_exporter": "python",
   "pygments_lexer": "ipython3",
   "version": "3.7.4-final"
  }
 },
 "nbformat": 4,
 "nbformat_minor": 2
}