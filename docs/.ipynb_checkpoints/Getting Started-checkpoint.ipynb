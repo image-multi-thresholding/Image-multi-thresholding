{
 "cells": [
  {
   "cell_type": "markdown",
   "id": "305ea51a",
   "metadata": {},
   "source": [
    "# Multithresholding\n",
    "#### A Python 3 library to find thresholds on SAR images."
   ]
  },
  {
   "cell_type": "markdown",
   "id": "e9acf7a9",
   "metadata": {},
   "source": [
    "##### Installing the library.\n",
    "Run the cell bellow to install the `image-multithresholding` library in your system."
   ]
  },
  {
   "cell_type": "code",
   "execution_count": 5,
   "id": "fb0d6405",
   "metadata": {},
   "outputs": [
    {
     "name": "stdout",
     "output_type": "stream",
     "text": [
      "Enabling notebook extension jupyter-js-widgets/extension...\r\n",
      "      - Validating: \u001b[32mOK\u001b[0m\r\n"
     ]
    }
   ],
   "source": [
    "#!python3 -m pip install image-multithresholding"
   ]
  },
  {
   "cell_type": "code",
   "execution_count": 7,
   "id": "5b6e985f",
   "metadata": {},
   "outputs": [],
   "source": []
  },
  {
   "cell_type": "markdown",
   "id": "87cc3271",
   "metadata": {},
   "source": [
    "### Loading the image to analyze.\n",
    "First, load the image or images you want to analyze using the `base.load_image` function.\n",
    "For example:"
   ]
  },
  {
   "cell_type": "code",
   "execution_count": 8,
   "id": "ab0372ff",
   "metadata": {},
   "outputs": [
    {
     "data": {
      "application/vnd.jupyter.widget-view+json": {
       "model_id": "33c9965364f34818a97017aef3788569",
       "version_major": 2,
       "version_minor": 0
      },
      "text/plain": [
       "Dropdown(description='Number:', index=1, options=(('One', 1), ('Two', 2), ('Three', 3)), value=2)"
      ]
     },
     "metadata": {},
     "output_type": "display_data"
    }
   ],
   "source": []
  },
  {
   "cell_type": "code",
   "execution_count": null,
   "id": "b9696c8c",
   "metadata": {},
   "outputs": [],
   "source": []
  }
 ],
 "metadata": {
  "kernelspec": {
   "display_name": "Python 3 (ipykernel)",
   "language": "python",
   "name": "python3"
  },
  "language_info": {
   "codemirror_mode": {
    "name": "ipython",
    "version": 3
   },
   "file_extension": ".py",
   "mimetype": "text/x-python",
   "name": "python",
   "nbconvert_exporter": "python",
   "pygments_lexer": "ipython3",
   "version": "3.8.10"
  }
 },
 "nbformat": 4,
 "nbformat_minor": 5
}
