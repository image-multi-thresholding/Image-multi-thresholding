{
 "cells": [
  {
   "cell_type": "markdown",
   "id": "7b1116c4",
   "metadata": {},
   "source": [
    "# Image Multithresholding\n",
    "#### A Python 3 library to find thresholds in the gray levels' histogram of an image, which may be used in segmentation.\n",
    "\n",
    "For more details, *Cf.* Reference: Andrea Rey and Claudio Delrieux. *Multithresholding techniques in SAR image classification*. Remote Sensing Applications: Society and Environment, 23:100540, 2021."
   ]
  },
  {
   "cell_type": "markdown",
   "id": "f4309825",
   "metadata": {},
   "source": [
    "##### Installing the package\n",
    "Run the cell bellow to install the `image-multithresholding` package in your system."
   ]
  },
  {
   "cell_type": "code",
   "execution_count": 3,
   "id": "4c1d4413",
   "metadata": {},
   "outputs": [
    {
     "name": "stdout",
     "output_type": "stream",
     "text": [
      "Looking in indexes: https://test.pypi.org/simple\n",
      "Collecting image-multi-thresholding-test01==0.0.5\n",
      "  Downloading https://test-files.pythonhosted.org/packages/bc/63/a6ea09e8d085bd3efb99c4fdb9424c4329b5d2f371454e74de6ce6d94c09/image_multi_thresholding_test01-0.0.5-py3-none-any.whl\n",
      "Installing collected packages: image-multi-thresholding-test01\n",
      "Successfully installed image-multi-thresholding-test01-0.0.5\n"
     ]
    }
   ],
   "source": [
    "#!python3 -m pip install image-multithresholding\n",
    "!python -m pip install --upgrade --index-url https://test.pypi.org/simple --no-deps image-multi-thresholding-test01==0.0.5"
   ]
  },
  {
   "cell_type": "markdown",
   "id": "93b379d3",
   "metadata": {},
   "source": [
    "### Histogram of gray levels\n",
    "For a grayscale image in the luminance range 1 (black) to $L$ (white), $H(i)$ denotes the number of pixels in the image with gray level $i \\in [1, \\dots,L]$. \n",
    "The normalized gray-level histogram is defined by\n",
    "$$p_i=\\frac{H(i)}{N},$$\n",
    "where $N$ is the total number of pixels."
   ]
  },
  {
   "cell_type": "markdown",
   "id": "b708b74a",
   "metadata": {},
   "source": [
    "##### Importing the modules\n",
    "It is necessary to import the following modules in order to run the examples presented in this tutorial."
   ]
  },
  {
   "cell_type": "code",
   "execution_count": 2,
   "id": "0128a706",
   "metadata": {},
   "outputs": [],
   "source": [
    "# Run this cell to import the necessary packages to run the example.\n",
    "#!python3 -m pip install matplotlib numpy\n",
    "from IPython.display import Image\n",
    "from matplotlib import pyplot as plt\n",
    "import numpy as np\n",
    "from image_multi_thresholding.base import load_image"
   ]
  },
  {
   "cell_type": "markdown",
   "id": "a582f086",
   "metadata": {},
   "source": [
    "##### Loading the image to analyze\n",
    "Load the image of interest using the `base.load_image` function.\n",
    "In what follows, the analysis is based on the reference image named **exImage**."
   ]
  },
  {
   "cell_type": "code",
   "execution_count": 4,
   "id": "7da257cb",
   "metadata": {},
   "outputs": [
    {
     "data": {
      "image/jpeg": "[encoded data removed]",
      "text/plain": [
       "<IPython.core.display.Image object>"
      ]
     },
     "execution_count": 4,
     "metadata": {
      "image/jpeg": {
       "height": 200,
       "width": 200
      }
     },
     "output_type": "execute_result"
    }
   ],
   "source": [
    "image = load_image('exImage.jpg')\n",
    "\n",
    "# Preview\n",
    "Image('exImage.jpg', width=200, height=200)"
   ]
  },
  {
   "cell_type": "markdown",
   "id": "72e08f05",
   "metadata": {},
   "source": [
    "##### Example of histogram\n",
    "The code in the following cell produces and visualizes the histogram of the grays levels of the reference image. "
   ]
  },
  {
   "cell_type": "code",
   "execution_count": null,
   "id": "87934786",
   "metadata": {},
   "outputs": [],
   "source": [
    "from image_multi_thresholding.base import _image_histogram\n",
    "\n",
    "histogram = _image_histogram(image)\n",
    "\n",
    "# Preview\n",
    "%matplotlib inline\n",
    "x = np.arange(0, len(histogram))\n",
    "fig = plt.figure()\n",
    "ax = fig.add_axes([0, 0, 1, 1])\n",
    "ax.plot(x, histogram)\n",
    "ax.set_title('Histogram')\n",
    "ax.set_xlabel('Gray level')\n",
    "ax.set_ylabel('Pixel count')"
   ]
  },
  {
   "cell_type": "markdown",
   "id": "82e655ca",
   "metadata": {},
   "source": [
    "##### Example of probability density function (*pdf*)\n",
    "The code in the following cell produces and visualizes the *pdf* of the grays levels of the reference image. "
   ]
  },
  {
   "cell_type": "code",
   "execution_count": null,
   "id": "189b6e43",
   "metadata": {},
   "outputs": [],
   "source": [
    "from image_multi_thresholding.base import _image_probabilities\n",
    "\n",
    "prob = _image_probabilities(image)\n",
    "\n",
    "# Preview\n",
    "%matplotlib inline\n",
    "x = np.arange(0, len(prob))\n",
    "fig = plt.figure()\n",
    "ax = fig.add_axes([0, 0, 1, 1])\n",
    "ax.plot(x, prob)\n",
    "ax.set_title('Probabilities')\n",
    "ax.set_xlabel('Gray level')\n",
    "ax.set_ylabel('%')"
   ]
  },
  {
   "cell_type": "markdown",
   "id": "df002955",
   "metadata": {},
   "source": [
    "### Classes defined by a set of thresholds \n",
    "Given a set of gray levels $t_1, \\dots ,t_{k-1}$ and considering $t_0=0$ and $t_k=L$, the collection $[1, \\dots , L]$ can be partitioned into $k$ classes \n",
    "$$C_j=\\{t_{j-1}+1, \\dots ,t_j\\},$$\n",
    "for $j=1, \\dots, k$."
   ]
  },
  {
   "cell_type": "markdown",
   "id": "8199435b",
   "metadata": {},
   "source": [
    "### Basic statistical concepts\n",
    "Consider the class $C_j$, for $j \\in \\{1, \\dots, k\\}$. \n",
    "The following is defined:\n",
    "<ul>\n",
    "<li> The probability of occurrence $$w_j=\\sum_{i \\in C_j} p_i.$$ </li>\n",
    "<li> The mean of levels $$\\mu_j=\\sum_{i \\in C_j} \\frac{ip_i}{w_j}.$$ </li>\n",
    "<li> The variance of levels $$\\sigma_j^2=\\sum_{i \\in C_j} \\frac{(i-\\mu_j)^2p_i}{w_j}.$$ </li>\n",
    "<li> The $n$th central moment of levels $$(\\mu_n)_j=\\sum_{i \\in C_j} \\frac{(i-\\mu_j)^np_i}{w_j}.$$\n",
    "Notice that $(\\mu_2)_j=\\sigma_j^2$. </li>\n",
    "<li> The skewness of levels $(\\beta_1)_j=\\frac{(\\mu_3)_j}{(\\mu_2)_j^{3/2}}.$$ </li>\n",
    "</ul>"
   ]
  },
  {
   "cell_type": "markdown",
   "id": "6076a8b9",
   "metadata": {},
   "source": [
    "### Otsu Method \n",
    "\n",
    "The between-class variance of gray levels is defined as:\n",
    "$$ \\sigma_B^2(s_1, \\dots, s_{k-1})=\\sum_{j=1}^k w_j (\\mu_j-\\mu_T)^2.$$\n",
    "\n",
    "The optimal thresholds are those which maximize the between class variance:\n",
    "$$(t_1,t_2, \\dots, t_{k-1}) = \\underset{1<s_1 < s_2 < \\cdots <s_{k-1}<L}{\\operatorname{argmax}} \\{\\sigma_B^2(s_1, s_2, \\dots ,s_{k-1})\\}.$$\n",
    "\n",
    "**Reference:** Nobuyuki Otsu. *A threshold selection method from gray-level histograms*. IEEE Transactions on Systems, Man, and Cybernetics, 9(1):62–66, 1979."
   ]
  },
  {
   "cell_type": "markdown",
   "id": "b867ac2e",
   "metadata": {},
   "source": [
    "### Maximum Entropy Criterion \n",
    "\n",
    "The histogram total entropy of segmented classes is defined as:\n",
    "$$TE(s_1, \\dots , s_{k-1})=-\\sum_{j=1}^k \\sum_{i \\in C_j} \\frac{p_i}{w_j} \\ln \\left(\\frac{p_i}{w_j}\\right).$$\n",
    "\n",
    "The optimal thresholds are those which maximize total entropy:\n",
    "$$(t_1,t_2, \\dots, t_{k-1}) = \\underset{1<s_1 < s_2 < \\cdots <s_{k-1}<L}{\\operatorname{argmax}} \\{TE(s_1, s_2, \\dots ,s_{k-1})\\}.$$\n",
    "\n",
    "\n",
    "**Reference:** Jagat Narain Kapur, Prasanna K. Sahoo, and Andrew K. C. Wong. *A new method for gray-level picture thresholding using the entropy of the histogram*. Computer Vision, Graphics, and Image Processing, 29(3):273–285, 1985."
   ]
  },
  {
   "cell_type": "markdown",
   "id": "8c09a66e",
   "metadata": {},
   "source": [
    "### Hill Clustering Approach \n",
    "\n",
    "Image histogram can be divided in equal intervals of different gray levels, called cells. The sum of all frequencies of gray levels belonging to cell $i$ is represented by $f_i$. For two adjacent cells, arrow direction at cell $i$ is defined as follows:\n",
    "$$d_i = \\begin{cases}\n",
    "1 & \\text{if $f_{i-1}>f_{i+1} \\wedge f_{i-1} \\ge f_i \\wedge f_i \\ne 0$,} \\\\\n",
    "-1 & \\text{if $f_{i+1}>f_{i-1} \\wedge f_{i+1} \\ge f_i \\wedge f_i \\ne 0$,} \\\\\n",
    "0 & \\text{otherwise.}\n",
    "\\end{cases}$$\n",
    "\n",
    "Peak identification holds in the following cases: 1.- cell $i$ is the peak of the hill if $d_i=0 \\wedge d_{i-1}=-1 \\wedge d_{i+1}=1$. 2.- there is a peak between cells $i$ and $i+1$ if $d_i=-1 \\wedge d_{i+1}=1$. In order to find the optimum cell size, it must be initialized in zero and peak identification process must be repeated until desired number of peaks is reached. Afterwards, for $j=1, \\dots , k-1$, the $j$th valley is located between cells $i_j$ and $h_j$ if $d_{i_j}=1 \\wedge d_{h_j}=-1$, with $h_j$ the first value to the right of $i_j$ that verifies $d_{h_j}\\ne 0$. Finally, if $a_{i_j}$ is the first gray level in cell $i_j$ and $b_{h_j}$ is the last gray level in cell $h_j$, the optimal thresholds are $t_j = a_{i_j} +(b_{h_j}-a_{i_j})/2$, for $j=1, \\dots , k-1$. \n",
    "\n",
    "**Reference:** Du-Ming Tsai and Ying-Hsiung Chen. *A fast histogram-clustering approach for multi-level thresholding*. Pattern Recognition Letters, 13(4):245–252, 1992.\n"
   ]
  },
  {
   "cell_type": "markdown",
   "id": "8fb7497e",
   "metadata": {},
   "source": [
    "### Maximum Likelihood Thresholding\n",
    "\n",
    "The extension of maximum likelihood thresholding to multi-thresholding is equivalent to obtain the optimum thresholds:\n",
    "$$ (t_1,t_2, \\dots, t_{k-1}) = \\underset{1<s_1 < s_2 < \\cdots <s_{k-1}<L}{\\operatorname{argmin}} \\left\\{\\sum_{j=1}^k w_j \\ln(\\sigma_j^2)\\right\\}.$$\n",
    "\n",
    "\n",
    "**Reference:** Takio Kurita, Nobuyuki Otsu, and N. Abdelmalek. *Maximum likelihood thresholding based on population mixture models*. Pattern Recognition, 25(10):1231–1240, 1992.\n"
   ]
  },
  {
   "cell_type": "markdown",
   "id": "b0fff49c",
   "metadata": {},
   "source": [
    "### Dynamic Programming Kittler Method\n",
    "\n",
    "Given $1<s<s'<L$, the gray-level set is partitioned into three classes $C_1$, $C_2$ and $C_3$. Let\n",
    "$$g(s,s')=w_2 \\ln \\left(\\frac{\\sigma_2}{\\sqrt{w_2}}\\right),$$\n",
    "where $w_2$ and $\\sigma_2^2$ are the $C_2$ class probability and variance, respectively.For $j=1, \\dots , k-1$, the optimal thresholds are\n",
    "$$t_j=\\underset{j < s_j < s}{\\operatorname{argmin}} \\left\\{\\underset{1=s_0<s_1<\\cdots <s_j}{\\min} \\left\\{\\sum_{i=1}^jg(s_{i-1},s_i)\\right\\}+g(s_j,s)\\right\\},$$\n",
    "where $s=j+1, \\dots , L-k+j+1$.\n",
    "\n",
    "**Reference:** Takio Kurita, Nobuyuki Otsu, and N. Abdelmalek. *Maximum likelihood thresholding based on population mixture models*. Pattern Recognition, 25(10):1231–1240, 1992.\n"
   ]
  },
  {
   "cell_type": "markdown",
   "id": "b064d6b2",
   "metadata": {},
   "source": [
    "### Linear Rational Approximation\n",
    "\n",
    "The peaks $P_1, \\dots, P_k$ are identified as explained in the method Hill Clustering Approach. Consider the sets of gray levels $X_1=\\{x \\in \\text{cell}_i \\text{ for some } i=P_1, \\dots, P_2\\}$, and $X_j=\\{x \\in \\text{cell}_i \\text{ for some } i=P_j+1$\\}, for $j=2, \\dots, k-1$. For each set, the algorithm can fit the points $(i,H(i))$ with $i \\in X_j$ by a real rational function of the form $R(x)=\\sum _{h=0}^n a_hx^h/(1+\\sum_{h=1}^m b_hx^h)$. Then, for $j=1, \\dots , k-1$, the optimal thresholds are as $t_j = \\operatorname{argmin}_{i \\in X_j} \\{R(i)\\}$.\n",
    "\n",
    "**Reference:** Nikos Papamarkos and Basilios Gatos. *A new approach for multilevel threshold selection*. CVGIP: Graphical Model and Image Processing, 56(5):357–370, 1994.\n"
   ]
  },
  {
   "cell_type": "markdown",
   "id": "04bcae62",
   "metadata": {},
   "source": [
    "### Maximum Correlation Criterion\n",
    "\n",
    "Total correlation is defined by:\n",
    "$$TC(s_1, \\dots, s_{k-1})=-\\sum_{j=1}^k \\ln\\left(\\sum_{i \\in C_j} \\left(\\frac{p_i}{w_j}\\right)^2\\right).$$\n",
    "\n",
    "The optimal thresholds are those which maximize total correlation:\n",
    "$$(t_1,t_2, \\dots, t_{k-1}) = \\underset{1<s_1 < s_2 < \\cdots <s_{k-1}<L}{\\operatorname{argmax}} \\{TC(s_1, s_2, \\dots ,s_{k-1})\\}.$$\n",
    "\n",
    "\n",
    "**Reference:** Jui-Cheng Yen, Fu-Juay Chang, and Shyang Chang. *A new criterion for automatic multilevel thresholding*. IEEE Transactions on Image Processing, 4(3):370–378, 1995.\n"
   ]
  },
  {
   "cell_type": "markdown",
   "id": "780de7f4",
   "metadata": {},
   "source": [
    "### Automatic Thresholding Criterion\n",
    "\n",
    "First, $s_1$ is found using the method Maximum Correlation Criterion for two classes. This produces the classes $\\{1, \\dots, s_1\\}$ and $\\{s_1+1, \\dots, L\\}$. The same method is then applied to the normalized class with the highest variance, in order to obtain $s_2$ and partitioning the histogram in three classes. This is repeated until $s_{k-1}$ is computed. The optimal thresholds are obtained sorting the set $\\{s_1, s_2, \\dots, s_{k-1}\\}$.\n",
    "\n",
    "\n",
    "**Reference:** Nikos Papamarkos and Basilios Gatos. *A new approach for multilevel threshold selection*. CVGIP: Graphical Model and Image Processing, 56(5):357–370, 1994."
   ]
  },
  {
   "cell_type": "markdown",
   "id": "e4865fc5",
   "metadata": {},
   "source": [
    "### Fast Otsu Method\n",
    "\n",
    "For $u,v \\in \\{1,2, \\dots, L\\}$, $u$-$v$ interval zeroth-order and first-order moments are respectively defined by: $P(u,v)=\\sum_{i=u}^v p_i$, and $S(u,v)=\\sum_{i=u}^v ip_i$.\n",
    "Considering $s_0=0$ and $s_k=L$, the modified between-class variance per class is given by:\n",
    "$$\\widetilde{\\sigma}^2_B (s_1,\\dots,s_{k-1})= \\sum_{j=0}^{k-1} H(s_j+1,s_{j+1}),$$\n",
    "where $H(s_j+1,s_{j+1}) = [S(s_j+1,s_{j+1})]^2/P(s_j+1,s_{j+1})$. Thus, optimal thresholds are those which maximize modified between-class variance:\n",
    "$$(t_1,t_2, \\dots, t_{k-1}) = \\underset{1<s_1 < s_2 < \\cdots <s_{k-1}<L}{\\operatorname{argmax}} \\{\\widetilde{\\sigma}_B^2(s_1, s_2, \\dots ,s_{k-1})\\}.$$\n",
    "\n",
    "\n",
    "**Reference:** Ping-Sung Liao, Tse-Sheng Chen, Pau-Choo Chung, et al. *A fast algorithm for multilevel thresholding*. J. Inf. Sci. Eng., 17(5):713–727, 2001.\n"
   ]
  },
  {
   "cell_type": "code",
   "execution_count": 8,
   "id": "717b4822",
   "metadata": {},
   "outputs": [
    {
     "name": "stdout",
     "output_type": "stream",
     "text": [
      "(74, 168, 227)\n"
     ]
    }
   ],
   "source": [
    "from image_multi_thresholding.threshold.otsu import threshold_fom\n",
    "\n",
    "th_fom = threshold_fom(image, k=3)\n",
    "print(th_fom)"
   ]
  },
  {
   "cell_type": "code",
   "execution_count": null,
   "id": "929f6574",
   "metadata": {},
   "outputs": [],
   "source": [
    "from image_multithresholding.base import get_thresholded_image\n",
    "\n",
    "get_thresholded_image(image, th_fom)"
   ]
  },
  {
   "cell_type": "markdown",
   "id": "15e79968",
   "metadata": {},
   "source": [
    "### Deterministic Parameter Criterion\n",
    "\n",
    "Given $p > 0$, consider a Gaussian mask with bins $b_n = 0.5[1-\\cos(n\\pi/p)]$, for $n=1, \\dots ,2p+1$. Applying mask convolution to the original histogram $H(i)$,  \n",
    "$$\\tilde{H}(i)=\\begin{cases}\n",
    "\\frac{1}{2p+1} \\sum\\limits_{h=1-i}^p b_{h+p+1}H(i+h) & \\text{if $1 \\le i \\le p$,} \\\\\n",
    "\\frac{1}{2p+1} \\sum\\limits_{h=-p}^p b_{h+p+1}H(i+h) & \\text{if $p+1 \\le i \\le L-p$,} \\\\\n",
    "\\frac{1}{2p+1} \\sum\\limits_{h=-p}^{L-i} b_{h+p+1}H(i+h) & \\text{if $L-p+1 \\le i \\le L$.} \\end{cases}\n",
    "$$\n",
    "Given $i \\in \\{2, \\dots , L-1\\}$, we say that $\\tilde{H}(i)$ is a valley if $\\tilde{H}(i)<\\tilde{H}(i-1)$ and $\\tilde{H}(i)<\\tilde{H}(i+1)$, which is denoted by $V(i)$. Suppose there are $k-1$ valleys, then the smoothed histogram can be divided into the classes $C_j=\\{V(j-1), \\dots, V(j)-1\\}$, for $j=1,\\dots ,k$, where $V(0)=1$ and $V(k)=L+1$. For each class $C_j$, fix $l_j=\\max\\{z \\in \\mathbb{Z}/z \\le 0.5[V(j)-V(j-1)-1]\\}$. The searching windows of $C_j$ are defined by $W_j^h = \\{V(j-1)+h, \\dots , V(j-1)+h+l_j\\}$, for $0 \\le h \\le l_j$. If $(\\beta_1)_j^h$ is the skewness of the searching window $W_j^h$, the optimal window for the class $C_j$ is obtained as $W_j^{\\text{opt}} = \\operatorname{argmin}_{0 \\le h \\le l_j} \\{|(\\beta_1)_j^h|\\}$. Given class $C_j$, the mean is estimated by $\\widehat{m_j} = \\sum_{i \\in W_j^{\\text{opt}}} i\\tilde{H}(i)/\\sum_{i \\in W_j^{\\text{opt}}} \\tilde{H}(i)$, the variance by $\\widehat{\\sigma^2_j} = \\sum_{i \\in W_j^{\\text{opt}}} (i-\\widehat{m_j})^2 \\tilde{H}(i)/\\sum_{i \\in W_j^{\\text{opt}}} \\tilde{H}(i)$, and the proportion by $\\widehat{P_j} = \\sum_{i \\in W_j^{\\text{opt}}}  \\tilde{H}(i)/\\sum_{i=1}^L \\tilde{H}(i)$.\n",
    "\n",
    "If $m = \\underset{1 \\le j \\le k}{\\operatorname{argmax}} \\left\\{\\frac{\\widehat{P_j}}{\\sqrt{2\\pi} \\widehat{\\sigma_j}} \\exp \\left[ -\\frac{1}{2} \\left( \\frac{i-\\widehat{m_j}}{\\widehat{\\sigma_j}} \\right)^2\\right]\\right\\}$, the classification label is $i \\in C_m$ for $i=1, \\dots, L$ and $m=1, \\dots, k$. Thus, optimal thresholds are given by $t_j = \\max \\{i / i \\in C_j\\}$, for $j=1, \\dots, k-1$.\n",
    "\n",
    "\n",
    "**Reference:** Jeng-Horng Chang, Kuo-Chin Fan, and Yang-Lang Chang. *Multimodal gray-level histogram modeling and decomposition*. Image and Vision Computing, 20(3):203–216, 2002.\n",
    "\n"
   ]
  },
  {
   "cell_type": "markdown",
   "id": "f8e966e3",
   "metadata": {},
   "source": [
    "### Fast Statistical Recursion \n",
    "\n",
    "It can be implemented only if the number of thresholds is even. Let $a=1$ and $b=L$. For $j=1, \\dots, (k-1)/2$, the iteration process consists of the following steps:\n",
    "<ol>\n",
    "<li>Compute the mean $\\mu$ and the standard deviation $\\sigma$ of the pixels with gray levels in the interval $[a,b]$.</li>\n",
    "<li>Given free parameters $\\kappa_1, \\kappa_2$, compute $t_j=\\lfloor \\mu-\\kappa_1\\sigma \\rfloor$ and $ t_{k-j}=\\lceil \\mu+\\kappa_2\\sigma \\rceil$ where $\\lfloor . \\rfloor$ and $\\lceil . \\rceil$ denote the floor and ceiling, respectively.</li>\n",
    "<li>Set $a=t_j+1$ and $b=t_{k-j}-1$.</li>\n",
    "</ol>\n",
    "\n",
    "    \n",
    "**Reference:** Siddharth Arora, Jayadev Acharya, Amit Verma, and Prasanta K. Panigrahi. *Multilevel thresholding for image segmentation through a fast statistical recursive algorithm*. Pattern Recognition Letters, 29(2):119–125, 2008."
   ]
  },
  {
   "cell_type": "markdown",
   "id": "ffab83e5",
   "metadata": {},
   "source": [
    "### Differential Evolution Optimization \n",
    "\n",
    "Fix the following parameters: number of population $N$,  mutation scale factor $F\\in (0,1)$, crossover constant $C\\in [0,1]$, and  number of iterations $M$. Generate $N$ random possible solutions $t_i=t_{i,1}, \\dots ,t_{i,k-1}$ ($i=1, \\dots , N$), and register the best one $t^{\\text{best}}$. Repeat the following cycle $M$ times:\n",
    "<ol>\n",
    "<li>Apply mutation using two distinct random solutions $r_1\\ne r_2$, $t_i^{\\text{mutated}} = t^{\\text{best}} + F (t_{r_1}-t_{r_2})$.</li>\n",
    "<li>For a random uniform number $r$ and a random solution $j$, apply exponential crossover:\n",
    "$$t_i^{\\text{crossed}} = \\begin{cases}\n",
    "\tt_i^{\\text{mutated}} & \\text{if $r\\le C$ or $i=j$,}\\\\\n",
    "\tt_i & \\text{otherwise.}\n",
    "\t\\end{cases}$$</li>\n",
    "<li>Find new fitness function values and update solutions if this value is improved. If necessary, the best solution must also be updated.</li>\n",
    "</ol>\n",
    "Thus, optimal thresholds are equal to the global best solution among the $N$ ones obtained after the iteration process.\n",
    "\n",
    "\n",
    "**Reference:** Erik Cuevas, Daniel Zaldivar, and Marco Pérez-Cisneros. *A novel multi-threshold segmentation approach based on differential evolution optimization*. Expert Systems with Applications, 37(7):5265–5271, 2010.\n"
   ]
  },
  {
   "cell_type": "markdown",
   "id": "e8f9dcf4",
   "metadata": {},
   "source": [
    "### Artificial Bee Colony Method\n",
    "\n",
    "Fix the following parameters: number of population $N$, and number of iterations $M$. Generate $N$ random possible bees $t_i=t_{i,1}, \\dots ,t_{i,k-1}$ ($i=1, \\dots , N$). Repeat the following cycle $M$ times:\n",
    "<ol>\n",
    "<li>For a predefined limit of internal cycle, do the following:\n",
    "\t<ol>\n",
    "\t<li>Find employed bees for random $h \\in \\{1, \\dots, k-1\\}$ and $l \\in \\{1, \\dots, N\\}$, $l\\ne i$, and a random number $\\phi_{i,h} \\in [-1,1]$, $t_{i,h}^{\\text{employed}} = t_{i,h}+\\phi_{i,h} (t_{i,h}-t_{l,h})$.</li>\n",
    "\t<li>Update bees using fitness function $f$:\n",
    "\t$$t_i^{\\text{new}}= \\begin{cases}\n",
    "\t\tt_i^{\\text{employed}} & \\text{if $f(t_i^{\\text{employed}})>f(t_i)$,} \\\\\n",
    "\t\tt_i & \\text{otherwise.}\n",
    "\t\t\\end{cases}$$</li>\n",
    "\t<li>Find solution likelihood $P_i=f(t_i)/\\sum _{i=1}^N f(t_i)$.</li>\n",
    "\t<li>Find the best employed bee $t^\\text{employed}_\\text{best}$ and send the onlooker bee for a random number $r \\in [0,1]$,  as follows:\n",
    "\t$$\\begin{cases}\n",
    "\t\t\\text{if $r<P_1$:} & t_1^\\text{new} = t^\\text{employed}_\\text{best}, \\\\\n",
    "\t\t\\text{else if $r<P_2$:} & t_2^\\text{new} = t^\\text{employed}_\\text{best}, \\\\\n",
    "\t\t& \\vdots \\\\\n",
    "\t\t\\text{else if $r<P_N$:} & t_N^\\text{new} = t^\\text{employed}_\\text{best}.\n",
    "\t\t\\end{cases}$$</li>\n",
    "\t</ol></li>\n",
    "    <li>Abandon solutions for those cases $t_i$ was not improved in the internal cycle and update for a random number $s \\in [0,1]$, $t_i^\\text{new} = t_\\text{min} + s (t_\\text{max}-t_\\text{min})$, where $t_\\text{ext}=\\left(\\text{ext}_{l=1, \\dots, N} \\{t_{l,1}\\}, \\dots , \\text{ext}_{l=1, \\dots, N} \\{t_{l,k-1}\\}\\right)$ for $\\text{ext}$ either $\\min$ or $\\max$.</li>\n",
    "</ol>\n",
    "\n",
    "Optimal thresholds are equal to the global best bee among the $N$ ones obtained after the iteration process.\n",
    "\n",
    "\n",
    "**Reference:** Ming-Huwi Horng. *Multilevel thresholding selection based on the artificial bee colony algorithm for image segmentation*. Expert Systems with Applications, 38(11):13785–13791, 2011."
   ]
  },
  {
   "cell_type": "markdown",
   "id": "838fac87",
   "metadata": {},
   "source": [
    "### Genetic Algorithm Approach\n",
    "\n",
    "Fix the following parameters: number of population $N$, $cr$ to represent the fraction of  crossover replacement, $mr$ to represent the  fraction of mutation replacement, and number of iterations $M$. Generate $N$ random possible chromosomes $t_i=t_{i,1}, \\dots ,t_{i,k-1}$ ($i=1, \\dots , N$). For crossover and mutation transformations, arguments must be converted to binary numbers and they will be denoted by $ch$. Repeat the following cycle $M$ times:\n",
    "<ol>\n",
    "\t<li>While number of new population is less than $N$, do the following:\n",
    "\t<ol>\n",
    "\t\t<li>Use roulette wheel selection to choose two chromosomes $ch_1$ and $ch_2$, conserving the number of desired thresholds to add to new population.</li>\n",
    "\t\t<li>Apply crossover for a random number $r_1 \\in [0,1]$\tand a random position $h$, if $r_1 < cr$ then: \n",
    "\t\t$$(ch_a^\\text{new})_i = \\begin{cases}\n",
    "\t\t(ch_a)_i & \\text{if $i<h$,} \\\\\n",
    "\t\t(ch_{\\sigma(a)})_i & \\text{if $i \\ge h$,} \\\\\n",
    "\t\t\\end{cases}$$\n",
    "        for $a=1,2$, $\\sigma(1)=2$, and $\\sigma(2)=1$.</li>\n",
    "\t\t<li>Apply mutation for a random number $ r_2 \\in [0,1]$ and a random position $h$, if $r_2 < mr$ then:\n",
    "\t\t$$(ch_a^\\text{new})_i = \\begin{cases}\n",
    "\t\t(ch_a)_i & \\text{if $i \\ne h$}, \\\\\n",
    "\t\t\\neg(ch_a)_h & \\text{if $i=h$}, \\\\\n",
    "\t\t\\end{cases}$$\n",
    "\t\tfor $a=1,2$, $\\neg 0=1$, and $\\neg 1=0$.</li>\n",
    "\t\t<li>Update new population according to fitness function $f$ as follows:\n",
    "\t\t<ul>\n",
    "\t\t\t<li>If $f(ch_1^\\text{new})> \\max\\{f(ch_1), f(ch_2)\\}$, then $ch_1^\\text{new}$ is added to new population.\n",
    "\t\t\t<li>If $f(ch_2^\\text{new})> \\max\\{f(ch_1), f(ch_2)\\}$, then $ch_2^\\text{new}$ is added to new population.\n",
    "        </ul></li>\n",
    "        </ol></li>\n",
    "</ol>\n",
    "\n",
    "Optimal thresholds are equal to the best global chromosome converted to decimal number among the $N$ ones obtained after the iteration process.\n",
    "\n",
    "\n",
    "**Reference:** Omar Banimelhem and Yahya Ahmed Yahya. *Multi-thresholding image segmentation using genetic algorithm*. In Proceedings of the International Conference on Image Processing, Computer Vision, and Pattern Recognition (IPCV), pages 1–1. The Steering Committee of The World Congress in Computer Science, Computer, 2011."
   ]
  },
  {
   "cell_type": "markdown",
   "id": "3e4b7c17",
   "metadata": {},
   "source": [
    "### Shuffled Frog Leaping Method\n",
    "\n",
    "Fix the following parameters:  number of memeplex $m$,  number of frogs in each memeplex $n$, total of replication in memeplex evolution $E$, and number of iterations $M$. In this case, $N=mn$ is the total number of population. Generate $N$ random possible frogs $t_i=t_{i,1}, \\dots ,t_{i,k-1}$ ($i=1, \\dots , N$), and register both the best frog $t^\\text{best}$ and the best fitness function value $f^{\\text{best}}$. Repeat the following cycle $M$ times:\n",
    "<ol>\n",
    "\t<li>For $h=1, \\dots , m$, distribute frogs in memeplex $Mem_h = \\{t_{(h-1)n+1}, \\dots ,  t_{hn}\\}$.</li>\n",
    "\t<li>Repeat the following internal evolution cycle $E$ times:\n",
    "\t<ol>\n",
    "\t\t<li>For each memeplex, find the best and the worst frogs $t_{Mem_h}^\\text{best}$ and $t_{Mem_h}^\\text{worst}$.\n",
    "\t\t<li>Consider random numbers $r_1,r_2 \\in [0,1]$, and generate a new frog $t_{Mem_h}^\\text{new} = t_{Mem_h}^\\text{worst} + r_1 (t_{Mem_h}^\\text{best}-t_{Mem_h}^\\text{worst})$.\n",
    "\t\t<li>Update the worst frog:\n",
    "\t\t$$\\begin{cases}\n",
    "\t\t& \\text{if $f(t_{Mem_h}^\\text{new})>f(t_{Mem_h}^\\text{worst})$: }  t_{Mem_h}^\\text{new worst}=t_{Mem_h}^\\text{worst}, \\\\\n",
    "\t\t& \\text{else if: }  t_{Mem_h}^\\text{new} = t_{Mem_h}^\\text{worst} + r_2 (t^\\text{best}-t_{Mem_h}^\\text{worst}), \\\\\n",
    "\t\t& \\hskip 1.1cm \\text{if $f(t_{Mem_h}^\\text{new})>f(t_{Mem_h}^\\text{worst})$:} \\\\\n",
    "\t\t& \\hskip 1.1cm t_{Mem_h}^\\text{new worst}=t_{Mem_h}^\\text{worst}, \\\\\n",
    "\t\t& \\hskip 1.1cm \\text{else if:}  \\\\\n",
    "\t\t& \\hskip 1.1cm t_{Mem_h}^\\text{new worst} \\text{ is a random generated frog.}\n",
    "\t\t\\end{cases}$$\n",
    "\t\t</ol></li>\n",
    "\t<li>Joint all frogs and update the best frog $t^\\text{best}$.</li>\n",
    "</ol>\n",
    "\n",
    "Optimal thresholds are equal to the best global frog among the $N$ ones obtained after the iteration process.\n",
    "\n",
    "\n",
    "**Reference:** M. H. Horng. *Multilevel image threshold selection based on the shuffled frog-leaping algorithm*. Journal of Chemical and Pharmaceutical Research, 5(9):599–605, 2013.\n"
   ]
  },
  {
   "cell_type": "markdown",
   "id": "e15426b0",
   "metadata": {},
   "source": [
    "### Particle Swarm Optimization \n",
    "\n",
    "Fix the following parameters: number of population $N$, initial and final inertia $\\omega^I$ and $\\omega^F$, initial acceleration constants $c^I_1$ and $c^I_2$,  final acceleration constants $c^F_1$ and $c^F_2$, and number of iterations $M$.\n",
    "Generate $N$ random possible particle positions $t_i=t_{i,1}, \\dots ,t_{i,k-1}$ ($i=1, \\dots , N$), and register the best global particle position $t^\\text{best}$. Initialize particle velocities $v_i$ as null vector and the best particle positions $t_i^\\text{best}=t_i$. For $h=1, \\dots , M$ repeat the following cycle:\n",
    "<ol>\n",
    "\t<li>Update inertia $\\omega = (\\omega^I-\\omega^F)(M-h)/M+\\omega^F$, and accelerations $c_a = c_a^h+(c_a^F-c_a^I)h/M$, for $a=1,2$.</li>\n",
    "\t<li>Update velocities for random numbers $ r_1,r_2 \\in [0,1]$, $v_i^\\text{new} = \\omega v_i + c_1 r_1(t_i^\\text{best}-t_i) + c_2 r_2(t^\\text{best}-t_i)$.</li>\n",
    "\t<li>Update particle positions preserving range of solutions, $t_i^\\text{new} = t_i + v_i^\\text{new}$.</li>\n",
    "\t<li>Update the best particle positions $t_i^\\text{new best} = t_i^\\text{new}$, if $f(t_i^\\text{new})>f(t_i^\\text{best})$.</li>\n",
    "\t<li>If necessary, update the best global particle position $t^\\text{best}$.</li>\n",
    "</ol>\n",
    "\n",
    "Optimal thresholds are equal to the best global particle position among the $N$ ones obtained after the iteration process.\n",
    "\n",
    "\n",
    "**Reference:** Fayçal Hamdaoui, Anis Sakly, and Abdellatif Mtibaa. *An efficient multithresholding method for image segmentation based on PSO*. In International Conference on Control, Engineering & Information Technology (CEIT’14), pages 203–213, 2014.\n"
   ]
  },
  {
   "cell_type": "markdown",
   "id": "868c6e83",
   "metadata": {},
   "source": [
    "### State Transition Algorithm\n",
    "\n",
    "Fix the following parameters: search enforcement $N$,  maximum and minimum values for rotation factor $\\alpha_{\\max}>0$ and $\\alpha_{\\min}>0$ respectively, translation factor  $\\beta>0$,  expansion factor $\\gamma>0$,  axesion factor $\\delta>0$, lessening coefficient $c>0$, and  number of iterations $M$. Generate $N$ random possible states $t_i=t_{i,1}, \\dots ,t_{i,k-1}$ ($i=1, \\dots , N$). Repeat the following cycle $M$ times:\n",
    "<ol>\n",
    "\t<li>Generate a random number $\\alpha \\in [0,1]$ and, if $\\alpha < \\alpha_{\\min}$, then use $\\alpha=\\alpha_{\\max}$.</li>\n",
    "\t<li>Apply expansion transformation using a random diagonal matrix $E \\in \\mathbb{R}^{(k-1) \\times (k-1)}$ with elements obeying the Gaussian distribution, $t_i^\\text{expanded} = t_i + \\gamma E t_i'$, where $x'$ denotes the transpose of $x$.</li>\n",
    "\t<li>Using fitness function $f$, and if $f(t_i^\\text{expanded})>f(t_i)$, then do the following:\n",
    "\t<ol>\n",
    "\t\t<li>Update state $t_i^\\text{new} = t_i^\\text{expanded}$.</li>\n",
    "\t\t<li>Apply translation transformation for a random number $T \\in [0,1]$, $t_i^\\text{translated} = t_i^\\text{new} + \\beta T (t_i^\\text{new}-t_i)/\\lVert t_i^\\text{new}-t_i \\lVert_2$, where $\\lVert v \\lVert_2$ indicates the 2-norm of the vector $v$.</li>\n",
    "\t\t<li>If $f(t_i^\\text{translated})>f(t_i^\\text{new})$, update state $t_i^\\text{final new} = t_i^\\text{translated}$.</li>\n",
    "\t</ol></li>\n",
    "\t<li>Apply rotation transformation to the $t_i$ obtained after the modifications in the previous step, using a random matrix $R \\in \\mathbb{R}^{(k-1) \\times (k-1)}$ with elements in $[-1,1]$, $t_i^\\text{rotated} = t_i + \\alpha R t_i'/[(k-1) \\lVert t_i \\lVert_2]$.</li>\n",
    "\t<li>Using fitness function $f$, and if $f(t_i^\\text{rotated})>f(t_i)$, then update state $t_i^\\text{new} = t_i^\\text{rotated}$, and follow analogous steps to (b) and (c).</li>\n",
    "\t<li>Using a diagonal random matrix $A \\in \\mathbb{R}^{(k-1) \\times (k-1)}$ with elements obeying the Gaussian distribution and only one random position having non-zero value, apply axesion transformation to the $t_i$ modified in the step above, $t_i^\\text{axeded} = t_i + \\delta A t_i'$.</li>\n",
    "\t<li>Using fitness function $f$, and if $f(t_i^\\text{axeded})>f(t_i)$, update state $t_i^\\text{new} = t_i^\\text{axeded}$, and follow analogous steps to (b) and (c). </li>\n",
    "\t<li>Update rotation factor $\\alpha^\\text{new} = \\alpha/c$.</li>\n",
    "</ol>\n",
    "\n",
    "Optimal thresholds are equal to the best global state among the $N$ ones obtained after the iteration process.\n",
    "\n",
    "\n",
    "**Reference:** Jie Han, Chunhua Yang, Xiaojun Zhou, and Weihua Gui. *A new multi-threshold image segmentation approach using state transition algorithm*. Applied Mathematical Modelling, 44:588–601, 2017.\n"
   ]
  },
  {
   "cell_type": "markdown",
   "id": "95e82cb2",
   "metadata": {},
   "source": [
    "### Histogram Sampling Technique\n",
    "\n",
    "Let $A$ be the set of gray levels at which local minimum is reached using discrete gradient descent. If $r$ is a non-trivial divisor of $L$, histogram can be partitioned in $r$ regions of equal size. Let $B$ be the set of all minimum points in the histogram for each partition. Intersection $A\\cap B$ can be grouped in subsets $(A\\cap B)_j$ for $j=1, \\dots , k-1$, with the same number of elements with possible exception for the last one. Optimal thresholds are $t_j = \\textrm{mean} (A\\cap B)_j$.\n",
    "\n",
    "\n",
    "**Reference:** Amit Gurung and Sangyal Lama Tamang. *Image segmentation using multi-threshold technique by histogram sampling*. arXiv Preprint arXiv:1909.05084, 2019."
   ]
  },
  {
   "cell_type": "code",
   "execution_count": null,
   "id": "9f34d1df",
   "metadata": {},
   "outputs": [],
   "source": []
  }
 ],
 "metadata": {
  "kernelspec": {
   "display_name": "Python 3 (ipykernel)",
   "language": "python",
   "name": "python3"
  },
  "language_info": {
   "codemirror_mode": {
    "name": "ipython",
    "version": 3
   },
   "file_extension": ".py",
   "mimetype": "text/x-python",
   "name": "python",
   "nbconvert_exporter": "python",
   "pygments_lexer": "ipython3",
   "version": "3.8.10"
  }
 },
 "nbformat": 4,
 "nbformat_minor": 5
}
