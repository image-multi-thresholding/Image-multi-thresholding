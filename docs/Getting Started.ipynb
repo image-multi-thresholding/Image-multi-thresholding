{
 "cells": [
  {
   "cell_type": "markdown",
   "metadata": {},
   "source": [
    "# Image Multithresholding\n",
    "#### A Python 3 library to find thresholds in the gray levels' histogram of an image, which may be used in segmentation."
   ]
  },
  {
   "cell_type": "markdown",
   "metadata": {},
   "source": [
    "##### Installing the package\n",
    "Run the cell bellow to install the `image-multithresholding` package in your system."
   ]
  },
  {
   "cell_type": "code",
   "execution_count": null,
   "metadata": {},
   "outputs": [],
   "source": [
    "#!python3 -m pip install image-multithresholding\n",
    "!python3 -m pip install --upgrade --index-url https://test.pypi.org/simple --no-deps image-multi-thresholding-test01==0.0.6"
   ]
  },
  {
   "cell_type": "markdown",
   "metadata": {},
   "source": [
    "### Histogram of gray levels\n",
    "For a grayscale image in the luminance range 1 (black) to $L$ (white), $H(i)$ denotes the number of pixels in the image with gray level $i \\in [1, \\dots,L]$. \n",
    "The normalized gray-level histogram is defined by\n",
    "$$p_i=\\frac{H(i)}{N},$$\n",
    "where $N$ is the total number of pixels."
   ]
  },
  {
   "cell_type": "markdown",
   "metadata": {},
   "source": [
    "##### Importing the modules\n",
    "It is necessary to import the following modules in order to run the examples presented in this tutorial."
   ]
  },
  {
   "cell_type": "code",
   "execution_count": null,
   "metadata": {},
   "outputs": [],
   "source": [
    "# Run this cell to import the necessary packages to run the example.\n",
    "#!python3 -m pip install matplotlib numpy\n",
    "from IPython.display import Image\n",
    "from matplotlib import pyplot as plt\n",
    "import numpy as np\n",
    "from image_multi_thresholding.base import load_image"
   ]
  },
  {
   "cell_type": "markdown",
   "metadata": {},
   "source": [
    "##### Loading the image to analyze\n",
    "Load the image of interest using the `base.load_image` function.\n",
    "In what follows, the analysis is based on the reference image named **exImage**."
   ]
  },
  {
   "cell_type": "code",
   "execution_count": null,
   "metadata": {},
   "outputs": [],
   "source": [
    "image = load_image('SARsynthetic.jpg')\n",
    "\n",
    "# Preview\n",
    "Image('SARsynthetic.jpg', width=200, height=200)"
   ]
  },
  {
   "cell_type": "markdown",
   "metadata": {},
   "source": [
    "##### Example of histogram\n",
    "The code in the following cell produces and visualizes the histogram of the grays levels of the reference image. "
   ]
  },
  {
   "cell_type": "code",
   "execution_count": null,
   "metadata": {},
   "outputs": [],
   "source": [
    "from image_multi_thresholding.base import _image_histogram\n",
    "\n",
    "histogram = _image_histogram(image)\n",
    "\n",
    "# Preview\n",
    "%matplotlib inline\n",
    "x = np.arange(0, len(histogram))\n",
    "fig = plt.figure()\n",
    "ax = fig.add_axes([0, 0, 1, 1])\n",
    "ax.plot(x, histogram)\n",
    "ax.set_title('Histogram')\n",
    "ax.set_xlabel('Gray level')\n",
    "ax.set_ylabel('Pixel count')"
   ]
  },
  {
   "cell_type": "markdown",
   "metadata": {},
   "source": [
    "##### Example of probability density function (*pdf*)\n",
    "The code in the following cell produces and visualizes the *pdf* of the grays levels of the reference image. "
   ]
  },
  {
   "cell_type": "code",
   "execution_count": null,
   "metadata": {},
   "outputs": [],
   "source": [
    "from image_multi_thresholding.base import _image_probabilities\n",
    "\n",
    "prob = _image_probabilities(image)\n",
    "\n",
    "# Preview\n",
    "%matplotlib inline\n",
    "x = np.arange(0, len(prob))\n",
    "fig = plt.figure()\n",
    "ax = fig.add_axes([0, 0, 1, 1])\n",
    "ax.plot(x, prob)\n",
    "ax.set_title('Probabilities')\n",
    "ax.set_xlabel('Gray level')\n",
    "ax.set_ylabel('%')"
   ]
  },
  {
   "cell_type": "markdown",
   "metadata": {},
   "source": [
    "### Classes defined by a set of thresholds \n",
    "Given a set of gray levels $t_1, \\dots ,t_{k-1}$ and considering $t_0=0$ and $t_k=L$, the collection $[1, \\dots , L]$ can be partitioned into $k$ classes \n",
    "$$C_j=\\{t_{j-1}+1, \\dots ,t_j\\},$$\n",
    "for $j=1, \\dots, k$."
   ]
  },
  {
   "cell_type": "markdown",
   "metadata": {},
   "source": [
    "### Basic statistical concepts\n",
    "Consider the class $C_j$, for $j \\in \\{1, \\dots, k\\}$. \n",
    "The following is defined:\n",
    "<ul>\n",
    "<li> The probability of occurrence $$w_j=\\sum_{i \\in C_j} p_i.$$ </li>\n",
    "<li> The mean of levels $$\\mu_j=\\sum_{i \\in C_j} \\frac{ip_i}{w_j}.$$ </li>\n",
    "<li> The variance of levels $$\\sigma_j^2=\\sum_{i \\in C_j} \\frac{(i-\\mu_j)^2p_i}{w_j}.$$ </li>\n",
    "<li> The $n$th central moment of levels $$(\\mu_n)_j=\\sum_{i \\in C_j} \\frac{(i-\\mu_j)^np_i}{w_j}.$$\n",
    "Notice that $(\\mu_2)_j=\\sigma_j^2$. </li>\n",
    "<li> The skewness of levels $(\\beta_1)_j=\\frac{(\\mu_3)_j}{(\\mu_2)_j^{3/2}}.$$ </li>\n",
    "</ul>"
   ]
  }
 ],
 "metadata": {
  "kernelspec": {
   "display_name": "Python 3",
   "language": "python",
   "name": "python3"
  },
  "language_info": {
   "codemirror_mode": {
    "name": "ipython",
    "version": 3
   },
   "file_extension": ".py",
   "mimetype": "text/x-python",
   "name": "python",
   "nbconvert_exporter": "python",
   "pygments_lexer": "ipython3",
   "version": "3.7.4"
  }
 },
 "nbformat": 4,
 "nbformat_minor": 5
}
