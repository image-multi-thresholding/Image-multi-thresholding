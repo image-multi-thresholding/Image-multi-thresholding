{
 "cells": [
  {
   "cell_type": "markdown",
   "id": "305ea51a",
   "metadata": {},
   "source": [
    "# Multithresholding\n",
    "#### A Python 3 library to find thresholds on SAR images."
   ]
  },
  {
   "cell_type": "code",
   "execution_count": null,
   "id": "dbeaa40a",
   "metadata": {},
   "outputs": [],
   "source": [
    "# Run this cell to import the necessary packages to run the example.\n",
    "#!python3 -m pip install matplotlib numpy\n",
    "from IPython.display import Image\n",
    "from matplotlib import pyplot as plt\n",
    "import numpy as np"
   ]
  },
  {
   "cell_type": "markdown",
   "id": "e9acf7a9",
   "metadata": {},
   "source": [
    "##### Installing the package.\n",
    "Run the cell bellow to install the `image-multithresholding` package in your system."
   ]
  },
  {
   "cell_type": "code",
   "execution_count": null,
   "id": "fb0d6405",
   "metadata": {},
   "outputs": [],
   "source": [
    "#!python3 -m pip install image-multithresholding\n",
    "!python3 -m pip install --upgrade --index-url https://test.pypi.org/simple --no-deps image-multi-thresholding-test01==0.0.6"
   ]
  },
  {
   "cell_type": "markdown",
   "id": "5b6e985f",
   "metadata": {},
   "source": [
    "### Importing the modules.\n",
    "You'll need to import some of the modules the `image-multithresholding` library provides for this tutorial."
   ]
  },
  {
   "cell_type": "code",
   "execution_count": null,
   "id": "a8352693",
   "metadata": {},
   "outputs": [],
   "source": [
    "from image_multi_thresholding.base import load_image"
   ]
  },
  {
   "cell_type": "markdown",
   "id": "87cc3271",
   "metadata": {},
   "source": [
    "### Loading the image to analyze.\n",
    "First, load the image or images you want to analyze using the `base.load_image` function.\n",
    "In this example, we're gonna be using the following image."
   ]
  },
  {
   "cell_type": "code",
   "execution_count": null,
   "id": "ab0372ff",
   "metadata": {},
   "outputs": [],
   "source": [
    "image = load_image('SARsynthetic.jpg')\n",
    "\n",
    "# Preview\n",
    "Image('SARsynthetic.jpg', width=200, height=200)"
   ]
  },
  {
   "cell_type": "markdown",
   "id": "4753fd13",
   "metadata": {},
   "source": [
    "There are four clear regions with distinct gray levels for each one on this image. We want to find what gray level separates each one.\n",
    "Let's try with the Fast Otsu Method (FOM). Just like any other thresholding algorithm, it receives a parameter `k`, denoting the number of equivalence classes we want to find. In this case, we'll pass `k=4`, as we know this image has 4 different regions."
   ]
  },
  {
   "cell_type": "code",
   "execution_count": null,
   "id": "dd5cda7a",
   "metadata": {},
   "outputs": [],
   "source": [
    "from image_multi_thresholding.base import _image_histogram\n",
    "\n",
    "histogram = _image_histogram(image)\n",
    "\n",
    "# Preview\n",
    "%matplotlib inline\n",
    "x = np.arange(0, len(histogram))\n",
    "fig = plt.figure()\n",
    "ax = fig.add_axes([0, 0, 1, 1])\n",
    "ax.plot(x, histogram)\n",
    "ax.set_title('Histogram')\n",
    "ax.set_xlabel('Gray level')\n",
    "ax.set_ylabel('Pixel count')"
   ]
  },
  {
   "cell_type": "markdown",
   "id": "a1a24be9",
   "metadata": {},
   "source": [
    "Now, let's take a look at probability that a pixel is at a given gray level:"
   ]
  },
  {
   "cell_type": "code",
   "execution_count": null,
   "id": "bdaf7eca",
   "metadata": {},
   "outputs": [],
   "source": [
    "from image_multi_thresholding.base import _image_probabilities\n",
    "\n",
    "prob = _image_probabilities(image)\n",
    "\n",
    "# Preview\n",
    "%matplotlib inline\n",
    "x = np.arange(0, len(prob))\n",
    "fig = plt.figure()\n",
    "ax = fig.add_axes([0, 0, 1, 1])\n",
    "ax.plot(x, prob)\n",
    "ax.set_title('Probabilities')\n",
    "ax.set_xlabel('Gray level')\n",
    "ax.set_ylabel('%')"
   ]
  },
  {
   "cell_type": "markdown",
   "id": "b180b5da",
   "metadata": {},
   "source": [
    "Now, let's take a look at the thresholds that the ATC algorithm gives us for this image:"
   ]
  },
  {
   "cell_type": "code",
   "execution_count": null,
   "id": "53fcad5d",
   "metadata": {},
   "outputs": [],
   "source": [
    "from image_multi_thresholding.threshold.sfl import threshold_sfl\n",
    "\n",
    "threshold_sfl(image, k=6)"
   ]
  }
 ],
 "metadata": {
  "kernelspec": {
   "display_name": "Python 3 (ipykernel)",
   "language": "python",
   "name": "python3"
  },
  "language_info": {
   "codemirror_mode": {
    "name": "ipython",
    "version": 3
   },
   "file_extension": ".py",
   "mimetype": "text/x-python",
   "name": "python",
   "nbconvert_exporter": "python",
   "pygments_lexer": "ipython3",
   "version": "3.8.10"
  }
 },
 "nbformat": 4,
 "nbformat_minor": 5
}
