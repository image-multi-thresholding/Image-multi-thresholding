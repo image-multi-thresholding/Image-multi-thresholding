{
 "cells": [
  {
   "cell_type": "code",
   "execution_count": 1,
   "metadata": {},
   "outputs": [
    {
     "ename": "ModuleNotFoundError",
     "evalue": "No module named 'image_multi_thresholding'",
     "output_type": "error",
     "traceback": [
      "\u001b[0;31m---------------------------------------------------------------------------\u001b[0m",
      "\u001b[0;31mModuleNotFoundError\u001b[0m                       Traceback (most recent call last)",
      "Input \u001b[0;32mIn [1]\u001b[0m, in \u001b[0;36m<cell line: 1>\u001b[0;34m()\u001b[0m\n\u001b[0;32m----> 1\u001b[0m \u001b[38;5;28;01mimport\u001b[39;00m \u001b[38;5;21;01mimage_multi_thresholding\u001b[39;00m\u001b[38;5;21;01m.\u001b[39;00m\u001b[38;5;21;01mbase\u001b[39;00m \u001b[38;5;28;01mas\u001b[39;00m \u001b[38;5;21;01mbase\u001b[39;00m\n\u001b[1;32m      2\u001b[0m \u001b[38;5;28;01mfrom\u001b[39;00m \u001b[38;5;21;01mimage_multi_thresholding\u001b[39;00m\u001b[38;5;21;01m.\u001b[39;00m\u001b[38;5;21;01mthreshold\u001b[39;00m\u001b[38;5;21;01m.\u001b[39;00m\u001b[38;5;21;01maco\u001b[39;00m \u001b[38;5;28;01mimport\u001b[39;00m threshold_aco \u001b[38;5;28;01mas\u001b[39;00m aco\n\u001b[1;32m      3\u001b[0m \u001b[38;5;28;01mfrom\u001b[39;00m \u001b[38;5;21;01mimage_multi_thresholding\u001b[39;00m\u001b[38;5;21;01m.\u001b[39;00m\u001b[38;5;21;01mthreshold\u001b[39;00m\u001b[38;5;21;01m.\u001b[39;00m\u001b[38;5;21;01matc\u001b[39;00m \u001b[38;5;28;01mimport\u001b[39;00m threshold_atc \u001b[38;5;28;01mas\u001b[39;00m atc\n",
      "\u001b[0;31mModuleNotFoundError\u001b[0m: No module named 'image_multi_thresholding'"
     ]
    }
   ],
   "source": [
    "import image_multi_thresholding.base as base\n",
    "from image_multi_thresholding.threshold.aco import threshold_aco as aco\n",
    "from image_multi_thresholding.threshold.atc import threshold_atc as atc\n",
    "from image_multi_thresholding.threshold.deo import threshold_deo as deo\n",
    "from image_multi_thresholding.threshold.dpc import threshold_dpc as dpc\n",
    "from image_multi_thresholding.threshold.gaa import threshold_gaa as gaa\n",
    "# from image_multi_thresholding.threshold.hca as hca\n",
    "# from image_multi_thresholding.threshold.hst as hst\n",
    "# from image_multi_thresholding.threshold.lra as lra\n",
    "# from image_multi_thresholding.threshold.mcc as mcc\n",
    "# from image_multi_thresholding.threshold.mec as mec\n",
    "# from image_multi_thresholding.threshold.otsu as otsu\n",
    "# from image_multi_thresholding.threshold.otsu as fom\n",
    "# from image_multi_thresholding.threshold.pso as pso\n",
    "# from image_multi_thresholding.threshold.lra as lra\n",
    "# from image_multi_thresholding.threshold.sfl as sfl\n",
    "# from image_multi_thresholding.threshold.sta as sta\n",
    "import numpy as np\n",
    "\n",
    "img = base.load_image('others/Images/synthetic.jpg')"
   ]
  },
  {
   "cell_type": "code",
   "execution_count": null,
   "metadata": {},
   "outputs": [],
   "source": [
    "algorithms = [aco, atc, deo, dpc, gaa]\n",
    "for f in algorithms:\n",
    "    print(F'Method: {f.__name__.split(\".\")[-1]}')\n",
    "    print(f(img, k=4))"
   ]
  }
 ],
 "metadata": {
  "kernelspec": {
   "display_name": "Python 3 (ipykernel)",
   "language": "python",
   "name": "python3"
  },
  "language_info": {
   "codemirror_mode": {
    "name": "ipython",
    "version": 3
   },
   "file_extension": ".py",
   "mimetype": "text/x-python",
   "name": "python",
   "nbconvert_exporter": "python",
   "pygments_lexer": "ipython3",
   "version": "3.8.10"
  }
 },
 "nbformat": 4,
 "nbformat_minor": 4
}
